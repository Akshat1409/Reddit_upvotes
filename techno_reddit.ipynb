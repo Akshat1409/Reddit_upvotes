{
 "cells": [
  {
   "cell_type": "code",
   "execution_count": 1,
   "metadata": {},
   "outputs": [],
   "source": [
    "import bz2\n",
    "import json\n",
    "import pandas as pd"
   ]
  },
  {
   "cell_type": "code",
   "execution_count": 2,
   "metadata": {},
   "outputs": [],
   "source": [
    "filename = 'RC_2015-01.bz2'"
   ]
  },
  {
   "cell_type": "code",
   "execution_count": 3,
   "metadata": {},
   "outputs": [],
   "source": [
    "with bz2.open(filename, \"rt\") as bzinput:\n",
    "    lines = []\n",
    "    for i, line in enumerate(bzinput):\n",
    "        if i == 200000:\n",
    "            break\n",
    "        reddit = json.loads(line)\n",
    "        lines.append(reddit)\n",
    "        "
   ]
  },
  {
   "cell_type": "code",
   "execution_count": 4,
   "metadata": {},
   "outputs": [],
   "source": [
    "df = pd.DataFrame(lines)"
   ]
  },
  {
   "cell_type": "code",
   "execution_count": 5,
   "metadata": {},
   "outputs": [
    {
     "data": {
      "text/plain": [
       "Index(['score_hidden', 'name', 'link_id', 'body', 'downs', 'created_utc',\n",
       "       'score', 'author', 'distinguished', 'id', 'archived', 'parent_id',\n",
       "       'subreddit', 'author_flair_css_class', 'author_flair_text', 'gilded',\n",
       "       'retrieved_on', 'ups', 'controversiality', 'subreddit_id', 'edited'],\n",
       "      dtype='object')"
      ]
     },
     "execution_count": 5,
     "metadata": {},
     "output_type": "execute_result"
    }
   ],
   "source": [
    "df.columns"
   ]
  },
  {
   "cell_type": "code",
   "execution_count": 6,
   "metadata": {},
   "outputs": [
    {
     "data": {
      "text/html": [
       "<div>\n",
       "<style scoped>\n",
       "    .dataframe tbody tr th:only-of-type {\n",
       "        vertical-align: middle;\n",
       "    }\n",
       "\n",
       "    .dataframe tbody tr th {\n",
       "        vertical-align: top;\n",
       "    }\n",
       "\n",
       "    .dataframe thead th {\n",
       "        text-align: right;\n",
       "    }\n",
       "</style>\n",
       "<table border=\"1\" class=\"dataframe\">\n",
       "  <thead>\n",
       "    <tr style=\"text-align: right;\">\n",
       "      <th></th>\n",
       "      <th>score_hidden</th>\n",
       "      <th>name</th>\n",
       "      <th>link_id</th>\n",
       "      <th>body</th>\n",
       "      <th>downs</th>\n",
       "      <th>created_utc</th>\n",
       "      <th>score</th>\n",
       "      <th>author</th>\n",
       "      <th>distinguished</th>\n",
       "      <th>id</th>\n",
       "      <th>...</th>\n",
       "      <th>parent_id</th>\n",
       "      <th>subreddit</th>\n",
       "      <th>author_flair_css_class</th>\n",
       "      <th>author_flair_text</th>\n",
       "      <th>gilded</th>\n",
       "      <th>retrieved_on</th>\n",
       "      <th>ups</th>\n",
       "      <th>controversiality</th>\n",
       "      <th>subreddit_id</th>\n",
       "      <th>edited</th>\n",
       "    </tr>\n",
       "  </thead>\n",
       "  <tbody>\n",
       "    <tr>\n",
       "      <th>0</th>\n",
       "      <td>False</td>\n",
       "      <td>t1_cnas8zv</td>\n",
       "      <td>t3_2qyr1a</td>\n",
       "      <td>Most of us have some family members like this....</td>\n",
       "      <td>0</td>\n",
       "      <td>1420070400</td>\n",
       "      <td>14</td>\n",
       "      <td>YoungModern</td>\n",
       "      <td>None</td>\n",
       "      <td>cnas8zv</td>\n",
       "      <td>...</td>\n",
       "      <td>t3_2qyr1a</td>\n",
       "      <td>exmormon</td>\n",
       "      <td>None</td>\n",
       "      <td>None</td>\n",
       "      <td>0</td>\n",
       "      <td>1425124282</td>\n",
       "      <td>14</td>\n",
       "      <td>0</td>\n",
       "      <td>t5_2r0gj</td>\n",
       "      <td>False</td>\n",
       "    </tr>\n",
       "    <tr>\n",
       "      <th>1</th>\n",
       "      <td>False</td>\n",
       "      <td>t1_cnas8zw</td>\n",
       "      <td>t3_2qv6c6</td>\n",
       "      <td>But Mill's career was way better. Bentham is l...</td>\n",
       "      <td>0</td>\n",
       "      <td>1420070400</td>\n",
       "      <td>3</td>\n",
       "      <td>RedCoatsForever</td>\n",
       "      <td>None</td>\n",
       "      <td>cnas8zw</td>\n",
       "      <td>...</td>\n",
       "      <td>t1_cnas2b6</td>\n",
       "      <td>CanadaPolitics</td>\n",
       "      <td>on</td>\n",
       "      <td>Ontario</td>\n",
       "      <td>0</td>\n",
       "      <td>1425124282</td>\n",
       "      <td>3</td>\n",
       "      <td>0</td>\n",
       "      <td>t5_2s4gt</td>\n",
       "      <td>False</td>\n",
       "    </tr>\n",
       "    <tr>\n",
       "      <th>2</th>\n",
       "      <td>False</td>\n",
       "      <td>t1_cnas8zx</td>\n",
       "      <td>t3_2qxefp</td>\n",
       "      <td>Mine uses a strait razor, and as much as i lov...</td>\n",
       "      <td>0</td>\n",
       "      <td>1420070400</td>\n",
       "      <td>1</td>\n",
       "      <td>vhisic</td>\n",
       "      <td>None</td>\n",
       "      <td>cnas8zx</td>\n",
       "      <td>...</td>\n",
       "      <td>t3_2qxefp</td>\n",
       "      <td>AdviceAnimals</td>\n",
       "      <td>None</td>\n",
       "      <td>None</td>\n",
       "      <td>0</td>\n",
       "      <td>1425124282</td>\n",
       "      <td>1</td>\n",
       "      <td>0</td>\n",
       "      <td>t5_2s7tt</td>\n",
       "      <td>False</td>\n",
       "    </tr>\n",
       "    <tr>\n",
       "      <th>3</th>\n",
       "      <td>False</td>\n",
       "      <td>t1_cnas8zy</td>\n",
       "      <td>t3_2qys4x</td>\n",
       "      <td>[deleted]</td>\n",
       "      <td>0</td>\n",
       "      <td>1420070400</td>\n",
       "      <td>1</td>\n",
       "      <td>[deleted]</td>\n",
       "      <td>None</td>\n",
       "      <td>cnas8zy</td>\n",
       "      <td>...</td>\n",
       "      <td>t3_2qys4x</td>\n",
       "      <td>AdviceAnimals</td>\n",
       "      <td>None</td>\n",
       "      <td>None</td>\n",
       "      <td>0</td>\n",
       "      <td>1425124282</td>\n",
       "      <td>1</td>\n",
       "      <td>0</td>\n",
       "      <td>t5_2s7tt</td>\n",
       "      <td>False</td>\n",
       "    </tr>\n",
       "    <tr>\n",
       "      <th>4</th>\n",
       "      <td>False</td>\n",
       "      <td>t1_cnas8zz</td>\n",
       "      <td>t3_2qm5bi</td>\n",
       "      <td>Very fast, thank you!</td>\n",
       "      <td>0</td>\n",
       "      <td>1420070400</td>\n",
       "      <td>2</td>\n",
       "      <td>Mastersimpson</td>\n",
       "      <td>None</td>\n",
       "      <td>cnas8zz</td>\n",
       "      <td>...</td>\n",
       "      <td>t3_2qm5bi</td>\n",
       "      <td>freedonuts</td>\n",
       "      <td>None</td>\n",
       "      <td>None</td>\n",
       "      <td>0</td>\n",
       "      <td>1425124282</td>\n",
       "      <td>2</td>\n",
       "      <td>0</td>\n",
       "      <td>t5_2y51u</td>\n",
       "      <td>False</td>\n",
       "    </tr>\n",
       "  </tbody>\n",
       "</table>\n",
       "<p>5 rows × 21 columns</p>\n",
       "</div>"
      ],
      "text/plain": [
       "   score_hidden        name    link_id  \\\n",
       "0         False  t1_cnas8zv  t3_2qyr1a   \n",
       "1         False  t1_cnas8zw  t3_2qv6c6   \n",
       "2         False  t1_cnas8zx  t3_2qxefp   \n",
       "3         False  t1_cnas8zy  t3_2qys4x   \n",
       "4         False  t1_cnas8zz  t3_2qm5bi   \n",
       "\n",
       "                                                body  downs created_utc  \\\n",
       "0  Most of us have some family members like this....      0  1420070400   \n",
       "1  But Mill's career was way better. Bentham is l...      0  1420070400   \n",
       "2  Mine uses a strait razor, and as much as i lov...      0  1420070400   \n",
       "3                                          [deleted]      0  1420070400   \n",
       "4                              Very fast, thank you!      0  1420070400   \n",
       "\n",
       "   score           author distinguished       id  ...   parent_id  \\\n",
       "0     14      YoungModern          None  cnas8zv  ...   t3_2qyr1a   \n",
       "1      3  RedCoatsForever          None  cnas8zw  ...  t1_cnas2b6   \n",
       "2      1           vhisic          None  cnas8zx  ...   t3_2qxefp   \n",
       "3      1        [deleted]          None  cnas8zy  ...   t3_2qys4x   \n",
       "4      2    Mastersimpson          None  cnas8zz  ...   t3_2qm5bi   \n",
       "\n",
       "        subreddit author_flair_css_class author_flair_text gilded  \\\n",
       "0        exmormon                   None              None      0   \n",
       "1  CanadaPolitics                     on           Ontario      0   \n",
       "2   AdviceAnimals                   None              None      0   \n",
       "3   AdviceAnimals                   None              None      0   \n",
       "4      freedonuts                   None              None      0   \n",
       "\n",
       "   retrieved_on  ups  controversiality  subreddit_id edited  \n",
       "0    1425124282   14                 0      t5_2r0gj  False  \n",
       "1    1425124282    3                 0      t5_2s4gt  False  \n",
       "2    1425124282    1                 0      t5_2s7tt  False  \n",
       "3    1425124282    1                 0      t5_2s7tt  False  \n",
       "4    1425124282    2                 0      t5_2y51u  False  \n",
       "\n",
       "[5 rows x 21 columns]"
      ]
     },
     "execution_count": 6,
     "metadata": {},
     "output_type": "execute_result"
    }
   ],
   "source": [
    "df.head()"
   ]
  },
  {
   "cell_type": "code",
   "execution_count": 7,
   "metadata": {},
   "outputs": [],
   "source": [
    "pf=df"
   ]
  },
  {
   "cell_type": "code",
   "execution_count": 8,
   "metadata": {},
   "outputs": [
    {
     "name": "stdout",
     "output_type": "stream",
     "text": [
      "<class 'pandas.core.frame.DataFrame'>\n",
      "RangeIndex: 200000 entries, 0 to 199999\n",
      "Data columns (total 21 columns):\n",
      " #   Column                  Non-Null Count   Dtype \n",
      "---  ------                  --------------   ----- \n",
      " 0   score_hidden            200000 non-null  bool  \n",
      " 1   name                    200000 non-null  object\n",
      " 2   link_id                 200000 non-null  object\n",
      " 3   body                    200000 non-null  object\n",
      " 4   downs                   200000 non-null  int64 \n",
      " 5   created_utc             200000 non-null  object\n",
      " 6   score                   200000 non-null  int64 \n",
      " 7   author                  200000 non-null  object\n",
      " 8   distinguished           1409 non-null    object\n",
      " 9   id                      200000 non-null  object\n",
      " 10  archived                200000 non-null  bool  \n",
      " 11  parent_id               200000 non-null  object\n",
      " 12  subreddit               200000 non-null  object\n",
      " 13  author_flair_css_class  73807 non-null   object\n",
      " 14  author_flair_text       74295 non-null   object\n",
      " 15  gilded                  200000 non-null  int64 \n",
      " 16  retrieved_on            200000 non-null  int64 \n",
      " 17  ups                     200000 non-null  int64 \n",
      " 18  controversiality        200000 non-null  int64 \n",
      " 19  subreddit_id            200000 non-null  object\n",
      " 20  edited                  200000 non-null  object\n",
      "dtypes: bool(2), int64(6), object(13)\n",
      "memory usage: 29.4+ MB\n"
     ]
    }
   ],
   "source": [
    "pf.info()"
   ]
  },
  {
   "cell_type": "markdown",
   "metadata": {},
   "source": [
    "## Label Encoding"
   ]
  },
  {
   "cell_type": "code",
   "execution_count": 8,
   "metadata": {},
   "outputs": [],
   "source": [
    "from sklearn.preprocessing import LabelEncoder\n",
    "le=LabelEncoder()"
   ]
  },
  {
   "cell_type": "code",
   "execution_count": 9,
   "metadata": {},
   "outputs": [],
   "source": [
    "df['link_id']=le.fit_transform(df['link_id'])\n",
    "df['author']=le.fit_transform(df['author'])\n",
    "df['parent_id']=le.fit_transform(df['parent_id'])\n",
    "df['subreddit']=le.fit_transform(df['subreddit'])"
   ]
  },
  {
   "cell_type": "markdown",
   "metadata": {},
   "source": [
    "## Clearing rows"
   ]
  },
  {
   "cell_type": "code",
   "execution_count": 7,
   "metadata": {},
   "outputs": [
    {
     "data": {
      "text/plain": [
       "(183414, 21)"
      ]
     },
     "execution_count": 7,
     "metadata": {},
     "output_type": "execute_result"
    }
   ],
   "source": [
    "df=df[df['body']!='[deleted]']\n",
    "df=df[df['score_hidden']==False]\n",
    "df=df[df['author']!='[deleted]']\n",
    "df.shape"
   ]
  },
  {
   "cell_type": "markdown",
   "metadata": {},
   "source": [
    "### Work on body"
   ]
  },
  {
   "cell_type": "code",
   "execution_count": 12,
   "metadata": {},
   "outputs": [],
   "source": [
    "import nltk\n",
    "import re"
   ]
  },
  {
   "cell_type": "code",
   "execution_count": 13,
   "metadata": {},
   "outputs": [],
   "source": [
    "from nltk.corpus import stopwords\n",
    "from nltk.tokenize import word_tokenize\n",
    "lt=stopwords.words('English')\n",
    "from nltk.stem import WordNetLemmatizer \n",
    "\n",
    "lemmatizer = WordNetLemmatizer() "
   ]
  },
  {
   "cell_type": "code",
   "execution_count": 14,
   "metadata": {},
   "outputs": [],
   "source": [
    "lx=[]\n",
    "lx1=[]\n",
    "for x in df['body']:\n",
    "    x=re.sub('[^a-zA-s]',' ',x)\n",
    "    words=word_tokenize(x)\n",
    "    clean_t=\"\"\n",
    "    fin=[]\n",
    "    for word in words:\n",
    "        if not word in lt:\n",
    "            clean_t=lemmatizer.lemmatize(word)+\" \"\n",
    "            fin.append(word)\n",
    "    lx.append(clean_t)\n",
    "    lx1.append(fin)"
   ]
  },
  {
   "cell_type": "code",
   "execution_count": 15,
   "metadata": {},
   "outputs": [],
   "source": [
    "ls=[]\n",
    "for sent in lx1:\n",
    "    \n",
    "    cln=\"\"\n",
    "    for words in sent:\n",
    "        cln=cln+lemmatizer.lemmatize(words)+\" \"\n",
    "    ls.append(cln)"
   ]
  },
  {
   "cell_type": "code",
   "execution_count": 17,
   "metadata": {},
   "outputs": [],
   "source": [
    "from afinn import Afinn\n",
    "af=Afinn()\n",
    "lt=[]\n",
    "for sent in ls:\n",
    "    lt.append(af.score(sent))"
   ]
  },
  {
   "cell_type": "code",
   "execution_count": 18,
   "metadata": {},
   "outputs": [],
   "source": [
    "df['body']=lt"
   ]
  },
  {
   "cell_type": "code",
   "execution_count": 11,
   "metadata": {},
   "outputs": [],
   "source": [
    "import matplotlib.pyplot as plt \n"
   ]
  },
  {
   "cell_type": "code",
   "execution_count": 22,
   "metadata": {},
   "outputs": [
    {
     "data": {
      "image/png": "[encoded data removed]",
      "text/plain": [
       "<Figure size 720x432 with 2 Axes>"
      ]
     },
     "metadata": {
      "needs_background": "light"
     },
     "output_type": "display_data"
    }
   ],
   "source": [
    "fig, (ax1, ax2) = plt.subplots(1, 2,figsize=(10, 6))\n",
    "ax1.hist(df['controversiality'])\n",
    "ax1.set_xlabel('controversiality')\n",
    "ax2.hist(df['downs'])\n",
    "ax2.set_xlabel('downs')\n",
    "\n",
    "plt.show()"
   ]
  },
  {
   "cell_type": "code",
   "execution_count": 24,
   "metadata": {},
   "outputs": [
    {
     "data": {
      "text/plain": [
       "False    183414\n",
       "Name: archived, dtype: int64"
      ]
     },
     "execution_count": 24,
     "metadata": {},
     "output_type": "execute_result"
    }
   ],
   "source": [
    "df.archived.value_counts()"
   ]
  },
  {
   "cell_type": "markdown",
   "metadata": {},
   "source": [
    "# Removing the unwanted columns"
   ]
  },
  {
   "cell_type": "code",
   "execution_count": 18,
   "metadata": {},
   "outputs": [
    {
     "name": "stdout",
     "output_type": "stream",
     "text": [
      "False    183414\n",
      "Name: score_hidden, dtype: int64\n",
      "t1_cnattf1    1\n",
      "t1_cnatb98    1\n",
      "t1_cnatvwe    1\n",
      "t1_cnat7pu    1\n",
      "t1_cnawe4j    1\n",
      "             ..\n",
      "t1_cnavio2    1\n",
      "t1_cnauz7y    1\n",
      "t1_cnasf98    1\n",
      "t1_cnawk3w    1\n",
      "t1_cnawgvv    1\n",
      "Name: name, Length: 183414, dtype: int64\n",
      "32798    3112\n",
      "25086    1693\n",
      "28715    1583\n",
      "23574    1415\n",
      "23754    1356\n",
      "         ... \n",
      "10690       1\n",
      "8643        1\n",
      "6596        1\n",
      "4549        1\n",
      "0           1\n",
      "Name: link_id, Length: 41915, dtype: int64\n",
      "Hi there, looks like you're wanting to discuss something related to the new year; thankfully, we have a dedicated thread for that! [Go here to participate!](http://redd.it/2qxd1t)  Happy holidays!\\n\\n*[I am a bot](/r/AutoModerator/comments/q11pu/what_is_automoderator/), and this action was performed automatically. Please [contact the moderators of this subreddit](/message/compose?to=%2Fr%2FAskReddit) if you have any questions or concerns.*    170\n",
      "Thanks!                                                                                                                                                                                                                                                                                                                                                                                                                                                         87\n",
      "Added                                                                                                                                                                                                                                                                                                                                                                                                                                                           57\n",
      "Yes                                                                                                                                                                                                                                                                                                                                                                                                                                                             54\n",
      "Thank you!                                                                                                                                                                                                                                                                                                                                                                                                                                                      53\n",
      "                                                                                                                                                                                                                                                                                                                                                                                                                                                              ... \n",
      "Bottom comment should win                                                                                                                                                                                                                                                                                                                                                                                                                                        1\n",
      "I dunno, just seems like something a Zigzagoon would do...                                                                                                                                                                                                                                                                                                                                                                                                       1\n",
      "Cool. Do you have name for your inn?                                                                                                                                                                                                                                                                                                                                                                                                                             1\n",
      "everything i post or comment, most likely like this...                                                                                                                                                                                                                                                                                                                                                                                                           1\n",
      "Also, we saw a pretty notable quality of life improvement in with GvG with Spectator Mode.  I think it's silly to say that Blizzard hasn't done anything to improve the experience since launch.  Obviously there are a number of improvements that can still be made, but if we see a major QoL improvement like Spectator Mode along with every expansion, I'll be happy.                                                                                      1\n",
      "Name: body, Length: 178950, dtype: int64\n",
      "0    183414\n",
      "Name: downs, dtype: int64\n",
      "1420071788    35\n",
      "1420073961    35\n",
      "1420071790    35\n",
      "1420079842    34\n",
      "1420074112    34\n",
      "              ..\n",
      "1420076021     6\n",
      "1420077357     5\n",
      "1420077904     5\n",
      "1420077906     5\n",
      "1420074775     5\n",
      "Name: created_utc, Length: 10561, dtype: int64\n",
      "1      82169\n",
      "2      35271\n",
      "3      16686\n",
      "0       7507\n",
      "4       6132\n",
      "       ...  \n",
      "498        1\n",
      "558        1\n",
      "626        1\n",
      "469        1\n",
      "255        1\n",
      "Name: score, Length: 513, dtype: int64\n",
      "3433     990\n",
      "62950    192\n",
      "43719    186\n",
      "30777    175\n",
      "77457    153\n",
      "        ... \n",
      "19650      1\n",
      "21697      1\n",
      "23744      1\n",
      "81004      1\n",
      "0          1\n",
      "Name: author, Length: 85935, dtype: int64\n",
      "moderator    1396\n",
      "Name: distinguished, dtype: int64\n",
      "cnaudru    1\n",
      "cnaudmf    1\n",
      "cnatotd    1\n",
      "cnaszg6    1\n",
      "cnatmfp    1\n",
      "          ..\n",
      "cnashkg    1\n",
      "cnavqji    1\n",
      "cnavuow    1\n",
      "cnaut3h    1\n",
      "cnatirq    1\n",
      "Name: id, Length: 183414, dtype: int64\n",
      "False    183414\n",
      "Name: archived, dtype: int64\n",
      "114094    1585\n",
      "106575     930\n",
      "106714     864\n",
      "110529     716\n",
      "109516     524\n",
      "          ... \n",
      "47942        1\n",
      "45895        1\n",
      "52040        1\n",
      "49993        1\n",
      "0            1\n",
      "Name: parent_id, Length: 123134, dtype: int64\n",
      "256     12995\n",
      "497      5902\n",
      "4486     4723\n",
      "4262     3957\n",
      "5052     3243\n",
      "        ...  \n",
      "6073        1\n",
      "1851        1\n",
      "1723        1\n",
      "1595        1\n",
      "0           1\n",
      "Name: subreddit, Length: 6335, dtype: int64\n",
      "                 10070\n",
      "TORNHL             751\n",
      "default            656\n",
      "i-gpcm-steam       622\n",
      "default            607\n",
      "                 ...  \n",
      "HOME                 1\n",
      "bigisland            1\n",
      "neidhart             1\n",
      "redstoneblock        1\n",
      "MetroidLogo          1\n",
      "Name: author_flair_css_class, Length: 9593, dtype: int64\n",
      "                                         14631\n",
      "TORNHL                                     751\n",
      "Spurs                                      273\n",
      "Rockets                                    240\n",
      "ANANHL                                     233\n",
      "                                         ...  \n",
      "Back to Meepo                                1\n",
      "glamorous sweatshop worker                   1\n",
      "Never give the enemy his wish                1\n",
      "twitch.tv/old_man_smithers                   1\n",
      "Does this neckbeard make me look fat?        1\n",
      "Name: author_flair_text, Length: 17796, dtype: int64\n",
      "0    183270\n",
      "1       136\n",
      "2         8\n",
      "Name: gilded, dtype: int64\n",
      "1425123382    280\n",
      "1425123854    280\n",
      "1425122380    269\n",
      "1425123770    190\n",
      "1425123711    190\n",
      "             ... \n",
      "1425123584     81\n",
      "1425123333     81\n",
      "1425123694     81\n",
      "1425123092     76\n",
      "1425123780     76\n",
      "Name: retrieved_on, Length: 1908, dtype: int64\n",
      "1      82169\n",
      "2      35271\n",
      "3      16686\n",
      "0       7507\n",
      "4       6132\n",
      "       ...  \n",
      "498        1\n",
      "558        1\n",
      "626        1\n",
      "469        1\n",
      "255        1\n",
      "Name: ups, Length: 513, dtype: int64\n",
      "0    183414\n",
      "Name: controversiality, dtype: int64\n"
     ]
    },
    {
     "name": "stdout",
     "output_type": "stream",
     "text": [
      "t5_2qh1i    12995\n",
      "t5_2qm9d     5902\n",
      "t5_2qiel     4723\n",
      "t5_2qh33     3957\n",
      "t5_2qo4s     3243\n",
      "            ...  \n",
      "t5_2qmyp        1\n",
      "t5_2tqjh        1\n",
      "t5_2qkoi        1\n",
      "t5_2sutg        1\n",
      "t5_2tmy9        1\n",
      "Name: subreddit_id, Length: 6335, dtype: int64\n",
      "0    178833\n",
      "1      4581\n",
      "Name: edited, dtype: int64\n"
     ]
    }
   ],
   "source": [
    "for x in df.columns:\n",
    "    print(df[x].value_counts())"
   ]
  },
  {
   "cell_type": "code",
   "execution_count": null,
   "metadata": {},
   "outputs": [],
   "source": []
  },
  {
   "cell_type": "code",
   "execution_count": null,
   "metadata": {},
   "outputs": [],
   "source": []
  },
  {
   "cell_type": "markdown",
   "metadata": {},
   "source": [
    "# Make df_fin =df"
   ]
  },
  {
   "cell_type": "code",
   "execution_count": 42,
   "metadata": {},
   "outputs": [],
   "source": [
    "df_fin=df"
   ]
  },
  {
   "cell_type": "markdown",
   "metadata": {},
   "source": [
    "## Changing edited"
   ]
  },
  {
   "cell_type": "code",
   "execution_count": 10,
   "metadata": {},
   "outputs": [],
   "source": [
    "ls=[]\n",
    "for x in df.edited:\n",
    "    if x ==False:\n",
    "        ls.append(0)\n",
    "    else:\n",
    "        ls.append(1)\n",
    "df.edited=ls"
   ]
  },
  {
   "cell_type": "markdown",
   "metadata": {},
   "source": [
    "# Remove useless create datasets"
   ]
  },
  {
   "cell_type": "code",
   "execution_count": 69,
   "metadata": {},
   "outputs": [],
   "source": [
    "df1=df[[ 'link_id', 'body',\n",
    "       'score', 'author', 'parent_id',\n",
    "       'subreddit', 'author_flair_css_class',  'gilded',\n",
    "          'edited']]"
   ]
  },
  {
   "cell_type": "code",
   "execution_count": 74,
   "metadata": {},
   "outputs": [
    {
     "data": {
      "text/plain": [
       "TORNHL          751\n",
       "default         656\n",
       "i-gpcm-steam    622\n",
       "default         607\n",
       "i-gpcm          580\n",
       "               ... \n",
       "martyb            1\n",
       "vag               1\n",
       "hannibal          1\n",
       "88kane            1\n",
       "LordDrac          1\n",
       "Name: author_flair_css_class, Length: 9592, dtype: int64"
      ]
     },
     "execution_count": 74,
     "metadata": {},
     "output_type": "execute_result"
    }
   ],
   "source": [
    "df1.author_flair_css_class.value_counts()"
   ]
  },
  {
   "cell_type": "code",
   "execution_count": 80,
   "metadata": {},
   "outputs": [],
   "source": [
    "df1=df1[df1['author_flair_css_class']!=\"\"]\n",
    "df1.shape\n",
    "df1['author_flair_css_class']=le.fit_transform(df1['author_flair_css_class'])"
   ]
  },
  {
   "cell_type": "code",
   "execution_count": 81,
   "metadata": {},
   "outputs": [
    {
     "data": {
      "text/html": [
       "<div>\n",
       "<style scoped>\n",
       "    .dataframe tbody tr th:only-of-type {\n",
       "        vertical-align: middle;\n",
       "    }\n",
       "\n",
       "    .dataframe tbody tr th {\n",
       "        vertical-align: top;\n",
       "    }\n",
       "\n",
       "    .dataframe thead th {\n",
       "        text-align: right;\n",
       "    }\n",
       "</style>\n",
       "<table border=\"1\" class=\"dataframe\">\n",
       "  <thead>\n",
       "    <tr style=\"text-align: right;\">\n",
       "      <th></th>\n",
       "      <th>link_id</th>\n",
       "      <th>body</th>\n",
       "      <th>score</th>\n",
       "      <th>author</th>\n",
       "      <th>parent_id</th>\n",
       "      <th>subreddit</th>\n",
       "      <th>author_flair_css_class</th>\n",
       "      <th>gilded</th>\n",
       "      <th>edited</th>\n",
       "    </tr>\n",
       "  </thead>\n",
       "  <tbody>\n",
       "    <tr>\n",
       "      <th>1</th>\n",
       "      <td>8701</td>\n",
       "      <td>4.0</td>\n",
       "      <td>3</td>\n",
       "      <td>32055</td>\n",
       "      <td>42169</td>\n",
       "      <td>538</td>\n",
       "      <td>7093</td>\n",
       "      <td>0</td>\n",
       "      <td>0</td>\n",
       "    </tr>\n",
       "    <tr>\n",
       "      <th>8</th>\n",
       "      <td>28443</td>\n",
       "      <td>0.0</td>\n",
       "      <td>1</td>\n",
       "      <td>77457</td>\n",
       "      <td>44102</td>\n",
       "      <td>435</td>\n",
       "      <td>1020</td>\n",
       "      <td>0</td>\n",
       "      <td>0</td>\n",
       "    </tr>\n",
       "    <tr>\n",
       "      <th>10</th>\n",
       "      <td>29276</td>\n",
       "      <td>0.0</td>\n",
       "      <td>2</td>\n",
       "      <td>80325</td>\n",
       "      <td>43913</td>\n",
       "      <td>4482</td>\n",
       "      <td>4464</td>\n",
       "      <td>0</td>\n",
       "      <td>0</td>\n",
       "    </tr>\n",
       "    <tr>\n",
       "      <th>13</th>\n",
       "      <td>7803</td>\n",
       "      <td>-2.0</td>\n",
       "      <td>2</td>\n",
       "      <td>70423</td>\n",
       "      <td>18581</td>\n",
       "      <td>1955</td>\n",
       "      <td>4385</td>\n",
       "      <td>0</td>\n",
       "      <td>0</td>\n",
       "    </tr>\n",
       "    <tr>\n",
       "      <th>14</th>\n",
       "      <td>31119</td>\n",
       "      <td>1.0</td>\n",
       "      <td>2</td>\n",
       "      <td>59666</td>\n",
       "      <td>41938</td>\n",
       "      <td>4486</td>\n",
       "      <td>1126</td>\n",
       "      <td>0</td>\n",
       "      <td>0</td>\n",
       "    </tr>\n",
       "  </tbody>\n",
       "</table>\n",
       "</div>"
      ],
      "text/plain": [
       "    link_id  body  score  author  parent_id  subreddit  \\\n",
       "1      8701   4.0      3   32055      42169        538   \n",
       "8     28443   0.0      1   77457      44102        435   \n",
       "10    29276   0.0      2   80325      43913       4482   \n",
       "13     7803  -2.0      2   70423      18581       1955   \n",
       "14    31119   1.0      2   59666      41938       4486   \n",
       "\n",
       "    author_flair_css_class  gilded  edited  \n",
       "1                     7093       0       0  \n",
       "8                     1020       0       0  \n",
       "10                    4464       0       0  \n",
       "13                    4385       0       0  \n",
       "14                    1126       0       0  "
      ]
     },
     "execution_count": 81,
     "metadata": {},
     "output_type": "execute_result"
    }
   ],
   "source": [
    "df1=df1.dropna()\n",
    "df1.head()"
   ]
  },
  {
   "cell_type": "code",
   "execution_count": 29,
   "metadata": {},
   "outputs": [
    {
     "data": {
      "text/plain": [
       "32798    3112\n",
       "25086    1693\n",
       "28715    1583\n",
       "23574    1415\n",
       "23754    1356\n",
       "         ... \n",
       "10690       1\n",
       "8643        1\n",
       "6596        1\n",
       "4549        1\n",
       "0           1\n",
       "Name: link_id, Length: 41915, dtype: int64"
      ]
     },
     "execution_count": 29,
     "metadata": {},
     "output_type": "execute_result"
    }
   ],
   "source": [
    "df.link_id.value_counts()"
   ]
  },
  {
   "cell_type": "code",
   "execution_count": 100,
   "metadata": {},
   "outputs": [],
   "source": [
    "df2=df1\n",
    "ls1=[]\n",
    "ls2=[]\n",
    "for vals in df2['body']:\n",
    "    if(vals>0):\n",
    "        ls1.append(vals)\n",
    "        ls2.append(0)\n",
    "    else:\n",
    "        ls1.append(0)\n",
    "        ls2.append(-1*vals)"
   ]
  },
  {
   "cell_type": "code",
   "execution_count": 113,
   "metadata": {},
   "outputs": [
    {
     "data": {
      "text/plain": [
       "Index(['link_id', 'score', 'author', 'parent_id', 'subreddit',\n",
       "       'author_flair_css_class', 'gilded', 'edited', 'pos', 'neg'],\n",
       "      dtype='object')"
      ]
     },
     "execution_count": 113,
     "metadata": {},
     "output_type": "execute_result"
    }
   ],
   "source": [
    "df2['pos']=ls1\n",
    "\n",
    "df2['neg']=ls2\n",
    "df2=df2[['link_id', 'score', 'author', 'parent_id', 'subreddit',\n",
    "       'author_flair_css_class', 'gilded', 'edited', 'pos', 'neg']]\n",
    "df2.columns"
   ]
  },
  {
   "cell_type": "code",
   "execution_count": 41,
   "metadata": {},
   "outputs": [
    {
     "data": {
      "text/html": [
       "<div>\n",
       "<style scoped>\n",
       "    .dataframe tbody tr th:only-of-type {\n",
       "        vertical-align: middle;\n",
       "    }\n",
       "\n",
       "    .dataframe tbody tr th {\n",
       "        vertical-align: top;\n",
       "    }\n",
       "\n",
       "    .dataframe thead th {\n",
       "        text-align: right;\n",
       "    }\n",
       "</style>\n",
       "<table border=\"1\" class=\"dataframe\">\n",
       "  <thead>\n",
       "    <tr style=\"text-align: right;\">\n",
       "      <th></th>\n",
       "      <th>score_hidden</th>\n",
       "      <th>name</th>\n",
       "      <th>link_id</th>\n",
       "      <th>body</th>\n",
       "      <th>downs</th>\n",
       "      <th>created_utc</th>\n",
       "      <th>score</th>\n",
       "      <th>author</th>\n",
       "      <th>distinguished</th>\n",
       "      <th>id</th>\n",
       "      <th>...</th>\n",
       "      <th>parent_id</th>\n",
       "      <th>subreddit</th>\n",
       "      <th>author_flair_css_class</th>\n",
       "      <th>author_flair_text</th>\n",
       "      <th>gilded</th>\n",
       "      <th>retrieved_on</th>\n",
       "      <th>ups</th>\n",
       "      <th>controversiality</th>\n",
       "      <th>subreddit_id</th>\n",
       "      <th>edited</th>\n",
       "    </tr>\n",
       "  </thead>\n",
       "  <tbody>\n",
       "    <tr>\n",
       "      <th>0</th>\n",
       "      <td>False</td>\n",
       "      <td>t1_cnas8zv</td>\n",
       "      <td>32083</td>\n",
       "      <td>4.0</td>\n",
       "      <td>0</td>\n",
       "      <td>1420070400</td>\n",
       "      <td>14</td>\n",
       "      <td>44046</td>\n",
       "      <td>None</td>\n",
       "      <td>cnas8zv</td>\n",
       "      <td>...</td>\n",
       "      <td>113416</td>\n",
       "      <td>4099</td>\n",
       "      <td>None</td>\n",
       "      <td>None</td>\n",
       "      <td>0</td>\n",
       "      <td>1425124282</td>\n",
       "      <td>14</td>\n",
       "      <td>0</td>\n",
       "      <td>t5_2r0gj</td>\n",
       "      <td>False</td>\n",
       "    </tr>\n",
       "    <tr>\n",
       "      <th>1</th>\n",
       "      <td>False</td>\n",
       "      <td>t1_cnas8zw</td>\n",
       "      <td>8701</td>\n",
       "      <td>4.0</td>\n",
       "      <td>0</td>\n",
       "      <td>1420070400</td>\n",
       "      <td>3</td>\n",
       "      <td>32055</td>\n",
       "      <td>None</td>\n",
       "      <td>cnas8zw</td>\n",
       "      <td>...</td>\n",
       "      <td>42169</td>\n",
       "      <td>538</td>\n",
       "      <td>on</td>\n",
       "      <td>Ontario</td>\n",
       "      <td>0</td>\n",
       "      <td>1425124282</td>\n",
       "      <td>3</td>\n",
       "      <td>0</td>\n",
       "      <td>t5_2s4gt</td>\n",
       "      <td>False</td>\n",
       "    </tr>\n",
       "    <tr>\n",
       "      <th>2</th>\n",
       "      <td>False</td>\n",
       "      <td>t1_cnas8zx</td>\n",
       "      <td>17505</td>\n",
       "      <td>6.0</td>\n",
       "      <td>0</td>\n",
       "      <td>1420070400</td>\n",
       "      <td>1</td>\n",
       "      <td>83148</td>\n",
       "      <td>None</td>\n",
       "      <td>cnas8zx</td>\n",
       "      <td>...</td>\n",
       "      <td>102280</td>\n",
       "      <td>106</td>\n",
       "      <td>None</td>\n",
       "      <td>None</td>\n",
       "      <td>0</td>\n",
       "      <td>1425124282</td>\n",
       "      <td>1</td>\n",
       "      <td>0</td>\n",
       "      <td>t5_2s7tt</td>\n",
       "      <td>False</td>\n",
       "    </tr>\n",
       "    <tr>\n",
       "      <th>4</th>\n",
       "      <td>False</td>\n",
       "      <td>t1_cnas8zz</td>\n",
       "      <td>3094</td>\n",
       "      <td>2.0</td>\n",
       "      <td>0</td>\n",
       "      <td>1420070400</td>\n",
       "      <td>2</td>\n",
       "      <td>24503</td>\n",
       "      <td>None</td>\n",
       "      <td>cnas8zz</td>\n",
       "      <td>...</td>\n",
       "      <td>95529</td>\n",
       "      <td>4233</td>\n",
       "      <td>None</td>\n",
       "      <td>None</td>\n",
       "      <td>0</td>\n",
       "      <td>1425124282</td>\n",
       "      <td>2</td>\n",
       "      <td>0</td>\n",
       "      <td>t5_2y51u</td>\n",
       "      <td>False</td>\n",
       "    </tr>\n",
       "    <tr>\n",
       "      <th>5</th>\n",
       "      <td>False</td>\n",
       "      <td>t1_cnas900</td>\n",
       "      <td>17409</td>\n",
       "      <td>0.0</td>\n",
       "      <td>0</td>\n",
       "      <td>1420070400</td>\n",
       "      <td>6</td>\n",
       "      <td>4728</td>\n",
       "      <td>None</td>\n",
       "      <td>cnas900</td>\n",
       "      <td>...</td>\n",
       "      <td>32370</td>\n",
       "      <td>3044</td>\n",
       "      <td>None</td>\n",
       "      <td>None</td>\n",
       "      <td>0</td>\n",
       "      <td>1425124282</td>\n",
       "      <td>6</td>\n",
       "      <td>0</td>\n",
       "      <td>t5_2qh61</td>\n",
       "      <td>False</td>\n",
       "    </tr>\n",
       "    <tr>\n",
       "      <th>...</th>\n",
       "      <td>...</td>\n",
       "      <td>...</td>\n",
       "      <td>...</td>\n",
       "      <td>...</td>\n",
       "      <td>...</td>\n",
       "      <td>...</td>\n",
       "      <td>...</td>\n",
       "      <td>...</td>\n",
       "      <td>...</td>\n",
       "      <td>...</td>\n",
       "      <td>...</td>\n",
       "      <td>...</td>\n",
       "      <td>...</td>\n",
       "      <td>...</td>\n",
       "      <td>...</td>\n",
       "      <td>...</td>\n",
       "      <td>...</td>\n",
       "      <td>...</td>\n",
       "      <td>...</td>\n",
       "      <td>...</td>\n",
       "      <td>...</td>\n",
       "    </tr>\n",
       "    <tr>\n",
       "      <th>199994</th>\n",
       "      <td>False</td>\n",
       "      <td>t1_cnawl5m</td>\n",
       "      <td>41185</td>\n",
       "      <td>5.0</td>\n",
       "      <td>0</td>\n",
       "      <td>1420080960</td>\n",
       "      <td>1</td>\n",
       "      <td>73848</td>\n",
       "      <td>None</td>\n",
       "      <td>cnawl5m</td>\n",
       "      <td>...</td>\n",
       "      <td>92554</td>\n",
       "      <td>556</td>\n",
       "      <td>None</td>\n",
       "      <td>None</td>\n",
       "      <td>0</td>\n",
       "      <td>1425122260</td>\n",
       "      <td>1</td>\n",
       "      <td>0</td>\n",
       "      <td>t5_323oy</td>\n",
       "      <td>False</td>\n",
       "    </tr>\n",
       "    <tr>\n",
       "      <th>199995</th>\n",
       "      <td>False</td>\n",
       "      <td>t1_cnawl5n</td>\n",
       "      <td>3702</td>\n",
       "      <td>1.0</td>\n",
       "      <td>0</td>\n",
       "      <td>1420080960</td>\n",
       "      <td>1</td>\n",
       "      <td>40764</td>\n",
       "      <td>None</td>\n",
       "      <td>cnawl5n</td>\n",
       "      <td>...</td>\n",
       "      <td>94144</td>\n",
       "      <td>5548</td>\n",
       "      <td></td>\n",
       "      <td>Wilhelm Jung | Nikolas Brunoz</td>\n",
       "      <td>0</td>\n",
       "      <td>1425122260</td>\n",
       "      <td>1</td>\n",
       "      <td>0</td>\n",
       "      <td>t5_32s5j</td>\n",
       "      <td>False</td>\n",
       "    </tr>\n",
       "    <tr>\n",
       "      <th>199996</th>\n",
       "      <td>False</td>\n",
       "      <td>t1_cnawl5o</td>\n",
       "      <td>41533</td>\n",
       "      <td>0.0</td>\n",
       "      <td>0</td>\n",
       "      <td>1420080960</td>\n",
       "      <td>2</td>\n",
       "      <td>3154</td>\n",
       "      <td>None</td>\n",
       "      <td>cnawl5o</td>\n",
       "      <td>...</td>\n",
       "      <td>122752</td>\n",
       "      <td>1484</td>\n",
       "      <td>None</td>\n",
       "      <td>None</td>\n",
       "      <td>0</td>\n",
       "      <td>1425122260</td>\n",
       "      <td>2</td>\n",
       "      <td>0</td>\n",
       "      <td>t5_2w8pb</td>\n",
       "      <td>False</td>\n",
       "    </tr>\n",
       "    <tr>\n",
       "      <th>199997</th>\n",
       "      <td>False</td>\n",
       "      <td>t1_cnawl5p</td>\n",
       "      <td>15300</td>\n",
       "      <td>7.0</td>\n",
       "      <td>0</td>\n",
       "      <td>1420080960</td>\n",
       "      <td>4</td>\n",
       "      <td>20837</td>\n",
       "      <td>None</td>\n",
       "      <td>cnawl5p</td>\n",
       "      <td>...</td>\n",
       "      <td>8133</td>\n",
       "      <td>5368</td>\n",
       "      <td>None</td>\n",
       "      <td>None</td>\n",
       "      <td>0</td>\n",
       "      <td>1425122260</td>\n",
       "      <td>4</td>\n",
       "      <td>0</td>\n",
       "      <td>t5_2sl0y</td>\n",
       "      <td>False</td>\n",
       "    </tr>\n",
       "    <tr>\n",
       "      <th>199999</th>\n",
       "      <td>False</td>\n",
       "      <td>t1_cnawl5r</td>\n",
       "      <td>4068</td>\n",
       "      <td>-1.0</td>\n",
       "      <td>0</td>\n",
       "      <td>1420080960</td>\n",
       "      <td>1</td>\n",
       "      <td>68114</td>\n",
       "      <td>None</td>\n",
       "      <td>cnawl5r</td>\n",
       "      <td>...</td>\n",
       "      <td>1386</td>\n",
       "      <td>256</td>\n",
       "      <td>None</td>\n",
       "      <td>None</td>\n",
       "      <td>0</td>\n",
       "      <td>1425122260</td>\n",
       "      <td>1</td>\n",
       "      <td>0</td>\n",
       "      <td>t5_2qh1i</td>\n",
       "      <td>False</td>\n",
       "    </tr>\n",
       "  </tbody>\n",
       "</table>\n",
       "<p>183414 rows × 21 columns</p>\n",
       "</div>"
      ],
      "text/plain": [
       "        score_hidden        name  link_id  body  downs created_utc  score  \\\n",
       "0              False  t1_cnas8zv    32083   4.0      0  1420070400     14   \n",
       "1              False  t1_cnas8zw     8701   4.0      0  1420070400      3   \n",
       "2              False  t1_cnas8zx    17505   6.0      0  1420070400      1   \n",
       "4              False  t1_cnas8zz     3094   2.0      0  1420070400      2   \n",
       "5              False  t1_cnas900    17409   0.0      0  1420070400      6   \n",
       "...              ...         ...      ...   ...    ...         ...    ...   \n",
       "199994         False  t1_cnawl5m    41185   5.0      0  1420080960      1   \n",
       "199995         False  t1_cnawl5n     3702   1.0      0  1420080960      1   \n",
       "199996         False  t1_cnawl5o    41533   0.0      0  1420080960      2   \n",
       "199997         False  t1_cnawl5p    15300   7.0      0  1420080960      4   \n",
       "199999         False  t1_cnawl5r     4068  -1.0      0  1420080960      1   \n",
       "\n",
       "        author distinguished       id  ...  parent_id  subreddit  \\\n",
       "0        44046          None  cnas8zv  ...     113416       4099   \n",
       "1        32055          None  cnas8zw  ...      42169        538   \n",
       "2        83148          None  cnas8zx  ...     102280        106   \n",
       "4        24503          None  cnas8zz  ...      95529       4233   \n",
       "5         4728          None  cnas900  ...      32370       3044   \n",
       "...        ...           ...      ...  ...        ...        ...   \n",
       "199994   73848          None  cnawl5m  ...      92554        556   \n",
       "199995   40764          None  cnawl5n  ...      94144       5548   \n",
       "199996    3154          None  cnawl5o  ...     122752       1484   \n",
       "199997   20837          None  cnawl5p  ...       8133       5368   \n",
       "199999   68114          None  cnawl5r  ...       1386        256   \n",
       "\n",
       "        author_flair_css_class              author_flair_text gilded  \\\n",
       "0                         None                           None      0   \n",
       "1                           on                        Ontario      0   \n",
       "2                         None                           None      0   \n",
       "4                         None                           None      0   \n",
       "5                         None                           None      0   \n",
       "...                        ...                            ...    ...   \n",
       "199994                    None                           None      0   \n",
       "199995                          Wilhelm Jung | Nikolas Brunoz      0   \n",
       "199996                    None                           None      0   \n",
       "199997                    None                           None      0   \n",
       "199999                    None                           None      0   \n",
       "\n",
       "        retrieved_on  ups  controversiality  subreddit_id edited  \n",
       "0         1425124282   14                 0      t5_2r0gj  False  \n",
       "1         1425124282    3                 0      t5_2s4gt  False  \n",
       "2         1425124282    1                 0      t5_2s7tt  False  \n",
       "4         1425124282    2                 0      t5_2y51u  False  \n",
       "5         1425124282    6                 0      t5_2qh61  False  \n",
       "...              ...  ...               ...           ...    ...  \n",
       "199994    1425122260    1                 0      t5_323oy  False  \n",
       "199995    1425122260    1                 0      t5_32s5j  False  \n",
       "199996    1425122260    2                 0      t5_2w8pb  False  \n",
       "199997    1425122260    4                 0      t5_2sl0y  False  \n",
       "199999    1425122260    1                 0      t5_2qh1i  False  \n",
       "\n",
       "[183414 rows x 21 columns]"
      ]
     },
     "execution_count": 41,
     "metadata": {},
     "output_type": "execute_result"
    }
   ],
   "source": [
    "df"
   ]
  },
  {
   "cell_type": "code",
   "execution_count": 46,
   "metadata": {},
   "outputs": [
    {
     "data": {
      "text/plain": [
       "(183414, 21)"
      ]
     },
     "execution_count": 46,
     "metadata": {},
     "output_type": "execute_result"
    }
   ],
   "source": [
    "df.shape"
   ]
  },
  {
   "cell_type": "markdown",
   "metadata": {},
   "source": [
    "# Working with df1"
   ]
  },
  {
   "cell_type": "code",
   "execution_count": 82,
   "metadata": {},
   "outputs": [],
   "source": [
    "from sklearn.model_selection import train_test_split"
   ]
  },
  {
   "cell_type": "code",
   "execution_count": 83,
   "metadata": {},
   "outputs": [
    {
     "data": {
      "text/plain": [
       "Index(['link_id', 'body', 'score', 'author', 'parent_id', 'subreddit',\n",
       "       'author_flair_css_class', 'gilded', 'edited'],\n",
       "      dtype='object')"
      ]
     },
     "execution_count": 83,
     "metadata": {},
     "output_type": "execute_result"
    }
   ],
   "source": [
    "df1.columns"
   ]
  },
  {
   "cell_type": "code",
   "execution_count": 84,
   "metadata": {},
   "outputs": [],
   "source": [
    "X=df1[['link_id', 'body',  'author', 'parent_id', 'subreddit',\n",
    "       'author_flair_css_class', 'gilded', 'edited']]\n",
    "Y=df1['score']"
   ]
  },
  {
   "cell_type": "code",
   "execution_count": 85,
   "metadata": {},
   "outputs": [],
   "source": [
    "X_train,X_test,Y_train,Y_test=train_test_split(X,Y)"
   ]
  },
  {
   "cell_type": "code",
   "execution_count": 87,
   "metadata": {},
   "outputs": [],
   "source": [
    "from sklearn.linear_model import LinearRegression\n",
    "LR=LinearRegression()"
   ]
  },
  {
   "cell_type": "code",
   "execution_count": 88,
   "metadata": {},
   "outputs": [
    {
     "data": {
      "text/plain": [
       "LinearRegression()"
      ]
     },
     "execution_count": 88,
     "metadata": {},
     "output_type": "execute_result"
    }
   ],
   "source": [
    "LR.fit(X_train,Y_train)"
   ]
  },
  {
   "cell_type": "code",
   "execution_count": 90,
   "metadata": {},
   "outputs": [],
   "source": [
    "Y_pred=LR.predict(X_test)\n",
    "Y_pred=Y_pred.astype(int)"
   ]
  },
  {
   "cell_type": "code",
   "execution_count": 91,
   "metadata": {},
   "outputs": [
    {
     "data": {
      "text/plain": [
       "3.45317904534306"
      ]
     },
     "execution_count": 91,
     "metadata": {},
     "output_type": "execute_result"
    }
   ],
   "source": [
    "from sklearn.metrics import mean_absolute_error\n",
    "mean_absolute_error(Y_pred,Y_test)"
   ]
  },
  {
   "cell_type": "code",
   "execution_count": 92,
   "metadata": {},
   "outputs": [
    {
     "data": {
      "text/plain": [
       "3.2650147789447206"
      ]
     },
     "execution_count": 92,
     "metadata": {},
     "output_type": "execute_result"
    }
   ],
   "source": [
    "from xgboost import XGBRegressor\n",
    "mode=XGBRegressor()\n",
    "mode.fit(X_train,Y_train)\n",
    "Y_pred=mode.predict(X_test)\n",
    "Y_pred=Y_pred.astype(int)\n",
    "mean_absolute_error(Y_pred,Y_test)"
   ]
  },
  {
   "cell_type": "code",
   "execution_count": 93,
   "metadata": {},
   "outputs": [
    {
     "data": {
      "text/plain": [
       "3.3274636815294634"
      ]
     },
     "execution_count": 93,
     "metadata": {},
     "output_type": "execute_result"
    }
   ],
   "source": [
    "from sklearn.ensemble import RandomForestRegressor\n",
    "rfr=RandomForestRegressor()\n",
    "rfr.fit(X_train,Y_train)\n",
    "Y_pred=rfr.predict(X_test)\n",
    "Y_pred=Y_pred.astype(int)\n",
    "mean_absolute_error(Y_pred,Y_test)"
   ]
  },
  {
   "cell_type": "markdown",
   "metadata": {},
   "source": [
    "# Working with df2"
   ]
  },
  {
   "cell_type": "code",
   "execution_count": 114,
   "metadata": {},
   "outputs": [],
   "source": [
    "X=df2[['link_id', 'author', 'parent_id', 'subreddit',\n",
    "       'author_flair_css_class', 'gilded', 'edited', 'pos', 'neg']]\n",
    "Y=df2['score']"
   ]
  },
  {
   "cell_type": "code",
   "execution_count": 115,
   "metadata": {},
   "outputs": [],
   "source": [
    "X_train,X_test,Y_train,Y_test=train_test_split(X,Y)"
   ]
  },
  {
   "cell_type": "code",
   "execution_count": 116,
   "metadata": {},
   "outputs": [
    {
     "data": {
      "text/plain": [
       "((47700, 9), (15901, 9), (47700,), (15901,))"
      ]
     },
     "execution_count": 116,
     "metadata": {},
     "output_type": "execute_result"
    }
   ],
   "source": [
    "X_train.shape,X_test.shape,Y_train.shape,Y_test.shape"
   ]
  },
  {
   "cell_type": "code",
   "execution_count": 117,
   "metadata": {},
   "outputs": [
    {
     "data": {
      "text/plain": [
       "3.255770077353626"
      ]
     },
     "execution_count": 117,
     "metadata": {},
     "output_type": "execute_result"
    }
   ],
   "source": [
    "from xgboost import XGBRegressor\n",
    "mode=XGBRegressor()\n",
    "mode.fit(X_train,Y_train)\n",
    "Y_pred=mode.predict(X_test)\n",
    "Y_pred=Y_pred.astype(int)\n",
    "mean_absolute_error(Y_pred,Y_test)"
   ]
  },
  {
   "cell_type": "code",
   "execution_count": 119,
   "metadata": {},
   "outputs": [
    {
     "data": {
      "text/plain": [
       "3.4289038425256275"
      ]
     },
     "execution_count": 119,
     "metadata": {},
     "output_type": "execute_result"
    }
   ],
   "source": [
    "from sklearn.linear_model import LinearRegression\n",
    "LR=LinearRegression()\n",
    "LR.fit(X_train,Y_train)\n",
    "Y_pred=LR.predict(X_test)\n",
    "Y_pred=Y_pred.astype(int)\n",
    "mean_absolute_error(Y_pred,Y_test)"
   ]
  }
 ],
 "metadata": {
  "kernelspec": {
   "display_name": "Python 3",
   "language": "python",
   "name": "python3"
  },
  "language_info": {
   "codemirror_mode": {
    "name": "ipython",
    "version": 3
   },
   "file_extension": ".py",
   "mimetype": "text/x-python",
   "name": "python",
   "nbconvert_exporter": "python",
   "pygments_lexer": "ipython3",
   "version": "3.8.3"
  }
 },
 "nbformat": 4,
 "nbformat_minor": 4
}
